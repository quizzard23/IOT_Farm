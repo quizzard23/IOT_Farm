{
 "cells": [
  {
   "cell_type": "code",
   "execution_count": 39,
   "metadata": {},
   "outputs": [],
   "source": [
    "import pandas as pd\n",
    "import numpy as np"
   ]
  },
  {
   "cell_type": "code",
   "execution_count": 40,
   "metadata": {},
   "outputs": [],
   "source": [
    "df = pd.read_csv('data_DGA.csv', index_col = 0)"
   ]
  },
  {
   "cell_type": "code",
   "execution_count": 41,
   "metadata": {},
   "outputs": [],
   "source": [
    "df = df.iloc[:-1,:]"
   ]
  },
  {
   "cell_type": "code",
   "execution_count": 42,
   "metadata": {},
   "outputs": [
    {
     "data": {
      "text/html": [
       "<div>\n",
       "<style scoped>\n",
       "    .dataframe tbody tr th:only-of-type {\n",
       "        vertical-align: middle;\n",
       "    }\n",
       "\n",
       "    .dataframe tbody tr th {\n",
       "        vertical-align: top;\n",
       "    }\n",
       "\n",
       "    .dataframe thead th {\n",
       "        text-align: right;\n",
       "    }\n",
       "</style>\n",
       "<table border=\"1\" class=\"dataframe\">\n",
       "  <thead>\n",
       "    <tr style=\"text-align: right;\">\n",
       "      <th></th>\n",
       "      <th>h2</th>\n",
       "      <th>ch4</th>\n",
       "      <th>c2h6</th>\n",
       "      <th>c2h4</th>\n",
       "      <th>c2h2</th>\n",
       "      <th>act</th>\n",
       "    </tr>\n",
       "  </thead>\n",
       "  <tbody>\n",
       "    <tr>\n",
       "      <th>0.0</th>\n",
       "      <td>117</td>\n",
       "      <td>17.0</td>\n",
       "      <td>1.000</td>\n",
       "      <td>3.0</td>\n",
       "      <td>1.000</td>\n",
       "      <td>1.0</td>\n",
       "    </tr>\n",
       "    <tr>\n",
       "      <th>1.0</th>\n",
       "      <td>407</td>\n",
       "      <td>28.0</td>\n",
       "      <td>15.000</td>\n",
       "      <td>21.0</td>\n",
       "      <td>0.001</td>\n",
       "      <td>1.0</td>\n",
       "    </tr>\n",
       "    <tr>\n",
       "      <th>2.0</th>\n",
       "      <td>183</td>\n",
       "      <td>6.0</td>\n",
       "      <td>0.001</td>\n",
       "      <td>5.0</td>\n",
       "      <td>0.001</td>\n",
       "      <td>1.0</td>\n",
       "    </tr>\n",
       "    <tr>\n",
       "      <th>3.0</th>\n",
       "      <td>166</td>\n",
       "      <td>21.0</td>\n",
       "      <td>38.000</td>\n",
       "      <td>6.0</td>\n",
       "      <td>0.001</td>\n",
       "      <td>1.0</td>\n",
       "    </tr>\n",
       "    <tr>\n",
       "      <th>4.0</th>\n",
       "      <td>105</td>\n",
       "      <td>23.0</td>\n",
       "      <td>13.000</td>\n",
       "      <td>4.0</td>\n",
       "      <td>3.000</td>\n",
       "      <td>1.0</td>\n",
       "    </tr>\n",
       "    <tr>\n",
       "      <th>...</th>\n",
       "      <td>...</td>\n",
       "      <td>...</td>\n",
       "      <td>...</td>\n",
       "      <td>...</td>\n",
       "      <td>...</td>\n",
       "      <td>...</td>\n",
       "    </tr>\n",
       "    <tr>\n",
       "      <th>559.0</th>\n",
       "      <td>56</td>\n",
       "      <td>61.0</td>\n",
       "      <td>75.000</td>\n",
       "      <td>32.0</td>\n",
       "      <td>31.000</td>\n",
       "      <td>2.0</td>\n",
       "    </tr>\n",
       "    <tr>\n",
       "      <th>560.0</th>\n",
       "      <td>217</td>\n",
       "      <td>286.0</td>\n",
       "      <td>14.000</td>\n",
       "      <td>458.0</td>\n",
       "      <td>884.000</td>\n",
       "      <td>3.0</td>\n",
       "    </tr>\n",
       "    <tr>\n",
       "      <th>561.0</th>\n",
       "      <td>441</td>\n",
       "      <td>207.0</td>\n",
       "      <td>43.000</td>\n",
       "      <td>224.0</td>\n",
       "      <td>261.000</td>\n",
       "      <td>3.0</td>\n",
       "    </tr>\n",
       "    <tr>\n",
       "      <th>562.0</th>\n",
       "      <td>127</td>\n",
       "      <td>24.0</td>\n",
       "      <td>0.001</td>\n",
       "      <td>32.0</td>\n",
       "      <td>81.000</td>\n",
       "      <td>3.0</td>\n",
       "    </tr>\n",
       "    <tr>\n",
       "      <th>563.0</th>\n",
       "      <td>176</td>\n",
       "      <td>205.9</td>\n",
       "      <td>47.700</td>\n",
       "      <td>75.7</td>\n",
       "      <td>68.700</td>\n",
       "      <td>3.0</td>\n",
       "    </tr>\n",
       "  </tbody>\n",
       "</table>\n",
       "<p>564 rows × 6 columns</p>\n",
       "</div>"
      ],
      "text/plain": [
       "        h2    ch4    c2h6   c2h4     c2h2  act\n",
       "0.0    117   17.0   1.000    3.0    1.000  1.0\n",
       "1.0    407   28.0  15.000   21.0    0.001  1.0\n",
       "2.0    183    6.0   0.001    5.0    0.001  1.0\n",
       "3.0    166   21.0  38.000    6.0    0.001  1.0\n",
       "4.0    105   23.0  13.000    4.0    3.000  1.0\n",
       "...    ...    ...     ...    ...      ...  ...\n",
       "559.0   56   61.0  75.000   32.0   31.000  2.0\n",
       "560.0  217  286.0  14.000  458.0  884.000  3.0\n",
       "561.0  441  207.0  43.000  224.0  261.000  3.0\n",
       "562.0  127   24.0   0.001   32.0   81.000  3.0\n",
       "563.0  176  205.9  47.700   75.7   68.700  3.0\n",
       "\n",
       "[564 rows x 6 columns]"
      ]
     },
     "execution_count": 42,
     "metadata": {},
     "output_type": "execute_result"
    }
   ],
   "source": [
    "df"
   ]
  },
  {
   "cell_type": "code",
   "execution_count": 43,
   "metadata": {},
   "outputs": [],
   "source": [
    "df['h2'] = pd.to_numeric(df['h2'],errors='coerce')\n",
    "df['ch4'] = pd.to_numeric(df['ch4'],errors='coerce')\n",
    "df['c2h6'] = pd.to_numeric(df['c2h6'],errors='coerce')\n",
    "df['c2h4'] = pd.to_numeric(df['c2h4'],errors='coerce')\n",
    "df['act'] = pd.to_numeric(df['act'],errors='coerce')\n"
   ]
  },
  {
   "cell_type": "code",
   "execution_count": 44,
   "metadata": {},
   "outputs": [
    {
     "data": {
      "text/plain": [
       "h2      float64\n",
       "ch4     float64\n",
       "c2h6    float64\n",
       "c2h4    float64\n",
       "c2h2    float64\n",
       "act     float64\n",
       "dtype: object"
      ]
     },
     "execution_count": 44,
     "metadata": {},
     "output_type": "execute_result"
    }
   ],
   "source": [
    "df.dtypes"
   ]
  },
  {
   "cell_type": "code",
   "execution_count": 45,
   "metadata": {},
   "outputs": [],
   "source": [
    "df = df.reset_index(drop=True)"
   ]
  },
  {
   "cell_type": "code",
   "execution_count": 47,
   "metadata": {},
   "outputs": [
    {
     "data": {
      "text/html": [
       "<div>\n",
       "<style scoped>\n",
       "    .dataframe tbody tr th:only-of-type {\n",
       "        vertical-align: middle;\n",
       "    }\n",
       "\n",
       "    .dataframe tbody tr th {\n",
       "        vertical-align: top;\n",
       "    }\n",
       "\n",
       "    .dataframe thead th {\n",
       "        text-align: right;\n",
       "    }\n",
       "</style>\n",
       "<table border=\"1\" class=\"dataframe\">\n",
       "  <thead>\n",
       "    <tr style=\"text-align: right;\">\n",
       "      <th></th>\n",
       "      <th>h2</th>\n",
       "      <th>ch4</th>\n",
       "      <th>c2h6</th>\n",
       "      <th>c2h4</th>\n",
       "      <th>c2h2</th>\n",
       "      <th>act</th>\n",
       "    </tr>\n",
       "  </thead>\n",
       "  <tbody>\n",
       "    <tr>\n",
       "      <th>0</th>\n",
       "      <td>117.0</td>\n",
       "      <td>17.0</td>\n",
       "      <td>1.000</td>\n",
       "      <td>3.0</td>\n",
       "      <td>1.000</td>\n",
       "      <td>1.0</td>\n",
       "    </tr>\n",
       "    <tr>\n",
       "      <th>1</th>\n",
       "      <td>407.0</td>\n",
       "      <td>28.0</td>\n",
       "      <td>15.000</td>\n",
       "      <td>21.0</td>\n",
       "      <td>0.001</td>\n",
       "      <td>1.0</td>\n",
       "    </tr>\n",
       "    <tr>\n",
       "      <th>2</th>\n",
       "      <td>183.0</td>\n",
       "      <td>6.0</td>\n",
       "      <td>0.001</td>\n",
       "      <td>5.0</td>\n",
       "      <td>0.001</td>\n",
       "      <td>1.0</td>\n",
       "    </tr>\n",
       "    <tr>\n",
       "      <th>3</th>\n",
       "      <td>166.0</td>\n",
       "      <td>21.0</td>\n",
       "      <td>38.000</td>\n",
       "      <td>6.0</td>\n",
       "      <td>0.001</td>\n",
       "      <td>1.0</td>\n",
       "    </tr>\n",
       "    <tr>\n",
       "      <th>4</th>\n",
       "      <td>105.0</td>\n",
       "      <td>23.0</td>\n",
       "      <td>13.000</td>\n",
       "      <td>4.0</td>\n",
       "      <td>3.000</td>\n",
       "      <td>1.0</td>\n",
       "    </tr>\n",
       "    <tr>\n",
       "      <th>...</th>\n",
       "      <td>...</td>\n",
       "      <td>...</td>\n",
       "      <td>...</td>\n",
       "      <td>...</td>\n",
       "      <td>...</td>\n",
       "      <td>...</td>\n",
       "    </tr>\n",
       "    <tr>\n",
       "      <th>559</th>\n",
       "      <td>56.0</td>\n",
       "      <td>61.0</td>\n",
       "      <td>75.000</td>\n",
       "      <td>32.0</td>\n",
       "      <td>31.000</td>\n",
       "      <td>2.0</td>\n",
       "    </tr>\n",
       "    <tr>\n",
       "      <th>560</th>\n",
       "      <td>217.0</td>\n",
       "      <td>286.0</td>\n",
       "      <td>14.000</td>\n",
       "      <td>458.0</td>\n",
       "      <td>884.000</td>\n",
       "      <td>3.0</td>\n",
       "    </tr>\n",
       "    <tr>\n",
       "      <th>561</th>\n",
       "      <td>441.0</td>\n",
       "      <td>207.0</td>\n",
       "      <td>43.000</td>\n",
       "      <td>224.0</td>\n",
       "      <td>261.000</td>\n",
       "      <td>3.0</td>\n",
       "    </tr>\n",
       "    <tr>\n",
       "      <th>562</th>\n",
       "      <td>127.0</td>\n",
       "      <td>24.0</td>\n",
       "      <td>0.001</td>\n",
       "      <td>32.0</td>\n",
       "      <td>81.000</td>\n",
       "      <td>3.0</td>\n",
       "    </tr>\n",
       "    <tr>\n",
       "      <th>563</th>\n",
       "      <td>176.0</td>\n",
       "      <td>205.9</td>\n",
       "      <td>47.700</td>\n",
       "      <td>75.7</td>\n",
       "      <td>68.700</td>\n",
       "      <td>3.0</td>\n",
       "    </tr>\n",
       "  </tbody>\n",
       "</table>\n",
       "<p>564 rows × 6 columns</p>\n",
       "</div>"
      ],
      "text/plain": [
       "        h2    ch4    c2h6   c2h4     c2h2  act\n",
       "0    117.0   17.0   1.000    3.0    1.000  1.0\n",
       "1    407.0   28.0  15.000   21.0    0.001  1.0\n",
       "2    183.0    6.0   0.001    5.0    0.001  1.0\n",
       "3    166.0   21.0  38.000    6.0    0.001  1.0\n",
       "4    105.0   23.0  13.000    4.0    3.000  1.0\n",
       "..     ...    ...     ...    ...      ...  ...\n",
       "559   56.0   61.0  75.000   32.0   31.000  2.0\n",
       "560  217.0  286.0  14.000  458.0  884.000  3.0\n",
       "561  441.0  207.0  43.000  224.0  261.000  3.0\n",
       "562  127.0   24.0   0.001   32.0   81.000  3.0\n",
       "563  176.0  205.9  47.700   75.7   68.700  3.0\n",
       "\n",
       "[564 rows x 6 columns]"
      ]
     },
     "execution_count": 47,
     "metadata": {},
     "output_type": "execute_result"
    }
   ],
   "source": [
    "df"
   ]
  },
  {
   "cell_type": "code",
   "execution_count": 48,
   "metadata": {},
   "outputs": [
    {
     "name": "stdout",
     "output_type": "stream",
     "text": [
      "h2      float64\n",
      "ch4     float64\n",
      "c2h6    float64\n",
      "c2h4    float64\n",
      "c2h2    float64\n",
      "act     float64\n",
      "dtype: object\n"
     ]
    }
   ],
   "source": [
    "df = df.apply(np.floor)\n",
    "print(df.dtypes)\n",
    "df = df.astype(int)"
   ]
  },
  {
   "cell_type": "code",
   "execution_count": 49,
   "metadata": {},
   "outputs": [
    {
     "name": "stdout",
     "output_type": "stream",
     "text": [
      "h2      int32\n",
      "ch4     int32\n",
      "c2h6    int32\n",
      "c2h4    int32\n",
      "c2h2    int32\n",
      "act     int32\n",
      "dtype: object\n"
     ]
    }
   ],
   "source": [
    "print(df.dtypes)"
   ]
  },
  {
   "cell_type": "code",
   "execution_count": 71,
   "metadata": {},
   "outputs": [],
   "source": [
    "for i in range(0,df.shape[0]):\n",
    "    a = df.loc[i][:-1]\n",
    "    a = np.asarray(a)\n",
    "    c = np.pad(a, (0, 4), 'constant')\n",
    "    c = c.reshape((3,3))\n",
    "    d = np.uint8(c)\n",
    "    pathname = os.path.join(str(df.loc[i][-1])+'/'+str(i)+'.png')\n",
    "    cv2.imwrite(pathname,d)"
   ]
  },
  {
   "cell_type": "code",
   "execution_count": 64,
   "metadata": {},
   "outputs": [],
   "source": [
    "import os\n",
    "import sys\n",
    "import cv2\n",
    "import imageio"
   ]
  },
  {
   "cell_type": "code",
   "execution_count": 68,
   "metadata": {},
   "outputs": [
    {
     "data": {
      "text/plain": [
       "'3/563.png'"
      ]
     },
     "execution_count": 68,
     "metadata": {},
     "output_type": "execute_result"
    }
   ],
   "source": [
    "str(df.loc[i][-1])+'/'+str(i)+'.png'"
   ]
  },
  {
   "cell_type": "code",
   "execution_count": 72,
   "metadata": {},
   "outputs": [
    {
     "data": {
      "text/plain": [
       "563"
      ]
     },
     "execution_count": 72,
     "metadata": {},
     "output_type": "execute_result"
    }
   ],
   "source": [
    "i"
   ]
  },
  {
   "cell_type": "code",
   "execution_count": null,
   "metadata": {},
   "outputs": [],
   "source": []
  }
 ],
 "metadata": {
  "kernelspec": {
   "display_name": "Python 3",
   "language": "python",
   "name": "python3"
  },
  "language_info": {
   "codemirror_mode": {
    "name": "ipython",
    "version": 3
   },
   "file_extension": ".py",
   "mimetype": "text/x-python",
   "name": "python",
   "nbconvert_exporter": "python",
   "pygments_lexer": "ipython3",
   "version": "3.7.3"
  }
 },
 "nbformat": 4,
 "nbformat_minor": 4
}
