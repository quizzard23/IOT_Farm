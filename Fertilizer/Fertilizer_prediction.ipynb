{
  "nbformat": 4,
  "nbformat_minor": 0,
  "metadata": {
    "colab": {
      "name": "Fertilizer_prediction.ipynb",
      "provenance": [],
      "collapsed_sections": []
    },
    "kernelspec": {
      "name": "python3",
      "display_name": "Python 3"
    }
  },
  "cells": [
    {
      "cell_type": "code",
      "metadata": {
        "id": "NphtSDvJiFyQ",
        "colab_type": "code",
        "colab": {}
      },
      "source": [
        "import tensorflow as tf\n",
        "from tensorflow import keras\n",
        "from tensorflow.keras import datasets, layers, models\n",
        "from sklearn.model_selection import train_test_split\n",
        "from sklearn.preprocessing import StandardScaler\n",
        "from sklearn.preprocessing import OneHotEncoder\n",
        "\n",
        "import os\n",
        "import pandas as pd\n",
        "import numpy as np\n",
        "from pickle import dump, load\n",
        "\n",
        "import matplotlib.pyplot as plt"
      ],
      "execution_count": null,
      "outputs": []
    },
    {
      "cell_type": "code",
      "metadata": {
        "id": "1CHA3tvkrBZH",
        "colab_type": "code",
        "colab": {}
      },
      "source": [
        "data = pd.read_csv('/content/drive/My Drive/FertPredictDataset.csv')\n",
        "X = data.drop('class', axis=1)\n",
        "y = pd.get_dummies(data['class'], prefix='class')"
      ],
      "execution_count": null,
      "outputs": []
    },
    {
      "cell_type": "code",
      "metadata": {
        "id": "2kS4OZxErcOe",
        "colab_type": "code",
        "colab": {}
      },
      "source": [
        "X_train, X_test, y_train, y_test = train_test_split(X, y, test_size=0.30, random_state=1234)\n",
        "# print(X_train.shape, X_test.shape, y_train.shape, y_test.shape)"
      ],
      "execution_count": null,
      "outputs": []
    },
    {
      "cell_type": "code",
      "metadata": {
        "id": "-BHNybvJreVK",
        "colab_type": "code",
        "colab": {
          "base_uri": "https://localhost:8080/",
          "height": 297
        },
        "outputId": "edb0a8d2-21b7-47ee-a96e-cbe42649f484"
      },
      "source": [
        "data.describe()"
      ],
      "execution_count": null,
      "outputs": [
        {
          "output_type": "execute_result",
          "data": {
            "text/html": [
              "<div>\n",
              "<style scoped>\n",
              "    .dataframe tbody tr th:only-of-type {\n",
              "        vertical-align: middle;\n",
              "    }\n",
              "\n",
              "    .dataframe tbody tr th {\n",
              "        vertical-align: top;\n",
              "    }\n",
              "\n",
              "    .dataframe thead th {\n",
              "        text-align: right;\n",
              "    }\n",
              "</style>\n",
              "<table border=\"1\" class=\"dataframe\">\n",
              "  <thead>\n",
              "    <tr style=\"text-align: right;\">\n",
              "      <th></th>\n",
              "      <th>Ca</th>\n",
              "      <th>Mg</th>\n",
              "      <th>K</th>\n",
              "      <th>S</th>\n",
              "      <th>N</th>\n",
              "      <th>Lime</th>\n",
              "      <th>C</th>\n",
              "      <th>P</th>\n",
              "      <th>Moisture</th>\n",
              "      <th>class</th>\n",
              "    </tr>\n",
              "  </thead>\n",
              "  <tbody>\n",
              "    <tr>\n",
              "      <th>count</th>\n",
              "      <td>1599.000000</td>\n",
              "      <td>1599.000000</td>\n",
              "      <td>1599.000000</td>\n",
              "      <td>1599.000000</td>\n",
              "      <td>1599.000000</td>\n",
              "      <td>1599.000000</td>\n",
              "      <td>1599.000000</td>\n",
              "      <td>1599.000000</td>\n",
              "      <td>1599.000000</td>\n",
              "      <td>1599.000000</td>\n",
              "    </tr>\n",
              "    <tr>\n",
              "      <th>mean</th>\n",
              "      <td>0.552033</td>\n",
              "      <td>0.552158</td>\n",
              "      <td>0.554284</td>\n",
              "      <td>0.551032</td>\n",
              "      <td>0.551782</td>\n",
              "      <td>0.548030</td>\n",
              "      <td>0.549656</td>\n",
              "      <td>0.550594</td>\n",
              "      <td>0.702939</td>\n",
              "      <td>2.500938</td>\n",
              "    </tr>\n",
              "    <tr>\n",
              "      <th>std</th>\n",
              "      <td>0.207752</td>\n",
              "      <td>0.208562</td>\n",
              "      <td>0.209547</td>\n",
              "      <td>0.204817</td>\n",
              "      <td>0.209015</td>\n",
              "      <td>0.205967</td>\n",
              "      <td>0.205063</td>\n",
              "      <td>0.203223</td>\n",
              "      <td>0.141236</td>\n",
              "      <td>1.118104</td>\n",
              "    </tr>\n",
              "    <tr>\n",
              "      <th>min</th>\n",
              "      <td>0.100000</td>\n",
              "      <td>0.100000</td>\n",
              "      <td>0.100000</td>\n",
              "      <td>0.100000</td>\n",
              "      <td>0.100000</td>\n",
              "      <td>0.100000</td>\n",
              "      <td>0.100000</td>\n",
              "      <td>0.100000</td>\n",
              "      <td>0.500000</td>\n",
              "      <td>1.000000</td>\n",
              "    </tr>\n",
              "    <tr>\n",
              "      <th>25%</th>\n",
              "      <td>0.500000</td>\n",
              "      <td>0.500000</td>\n",
              "      <td>0.450000</td>\n",
              "      <td>0.450000</td>\n",
              "      <td>0.450000</td>\n",
              "      <td>0.450000</td>\n",
              "      <td>0.450000</td>\n",
              "      <td>0.450000</td>\n",
              "      <td>0.600000</td>\n",
              "      <td>2.000000</td>\n",
              "    </tr>\n",
              "    <tr>\n",
              "      <th>50%</th>\n",
              "      <td>0.600000</td>\n",
              "      <td>0.600000</td>\n",
              "      <td>0.600000</td>\n",
              "      <td>0.600000</td>\n",
              "      <td>0.600000</td>\n",
              "      <td>0.600000</td>\n",
              "      <td>0.600000</td>\n",
              "      <td>0.600000</td>\n",
              "      <td>0.700000</td>\n",
              "      <td>3.000000</td>\n",
              "    </tr>\n",
              "    <tr>\n",
              "      <th>75%</th>\n",
              "      <td>0.700000</td>\n",
              "      <td>0.700000</td>\n",
              "      <td>0.700000</td>\n",
              "      <td>0.700000</td>\n",
              "      <td>0.700000</td>\n",
              "      <td>0.700000</td>\n",
              "      <td>0.700000</td>\n",
              "      <td>0.700000</td>\n",
              "      <td>0.800000</td>\n",
              "      <td>3.500000</td>\n",
              "    </tr>\n",
              "    <tr>\n",
              "      <th>max</th>\n",
              "      <td>0.800000</td>\n",
              "      <td>0.800000</td>\n",
              "      <td>0.800000</td>\n",
              "      <td>0.800000</td>\n",
              "      <td>0.800000</td>\n",
              "      <td>0.800000</td>\n",
              "      <td>0.800000</td>\n",
              "      <td>0.800000</td>\n",
              "      <td>0.900000</td>\n",
              "      <td>4.000000</td>\n",
              "    </tr>\n",
              "  </tbody>\n",
              "</table>\n",
              "</div>"
            ],
            "text/plain": [
              "                Ca           Mg  ...     Moisture        class\n",
              "count  1599.000000  1599.000000  ...  1599.000000  1599.000000\n",
              "mean      0.552033     0.552158  ...     0.702939     2.500938\n",
              "std       0.207752     0.208562  ...     0.141236     1.118104\n",
              "min       0.100000     0.100000  ...     0.500000     1.000000\n",
              "25%       0.500000     0.500000  ...     0.600000     2.000000\n",
              "50%       0.600000     0.600000  ...     0.700000     3.000000\n",
              "75%       0.700000     0.700000  ...     0.800000     3.500000\n",
              "max       0.800000     0.800000  ...     0.900000     4.000000\n",
              "\n",
              "[8 rows x 10 columns]"
            ]
          },
          "metadata": {
            "tags": []
          },
          "execution_count": 133
        }
      ]
    },
    {
      "cell_type": "code",
      "metadata": {
        "id": "sMj7q4l1s_0P",
        "colab_type": "code",
        "colab": {}
      },
      "source": [
        "scaler_filename = './scaler.pkl'\n",
        "if os.path.isfile(scaler_filename):\n",
        "    scaler = load(open(scaler_filename, 'rb'))\n",
        "else:\n",
        "    scaler = StandardScaler().fit(X_train)\n",
        "    # save the scaler\n",
        "    dump(scaler, open(scaler_filename, 'wb'))"
      ],
      "execution_count": null,
      "outputs": []
    },
    {
      "cell_type": "code",
      "metadata": {
        "id": "p9DpeoD0vOo1",
        "colab_type": "code",
        "colab": {}
      },
      "source": [
        "def BaseModel(data):\n",
        "    inputs = keras.Input(shape=data.shape[1])\n",
        "    x = layers.Dense(10, activation='relu')(inputs)\n",
        "    x = layers.Dense(15, activation='relu')(x)\n",
        "    x = layers.Dense(10, activation='relu')(x)\n",
        "    x = layers.Dense(4, activation='sigmoid')(x)\n",
        "    outputs = layers.Softmax()(x)\n",
        "    return keras.Model(inputs, outputs)\n",
        "\n",
        "baseModel = BaseModel(X_train)"
      ],
      "execution_count": null,
      "outputs": []
    },
    {
      "cell_type": "code",
      "metadata": {
        "id": "IttPoGN2wkPo",
        "colab_type": "code",
        "colab": {}
      },
      "source": [
        "learning_rate = 0.01\n",
        "epochs = 50\n",
        "baseModel.compile(optimizer=tf.keras.optimizers.Adam(lr=learning_rate), loss=tf.keras.losses.CategoricalCrossentropy(), metrics=['accuracy'])"
      ],
      "execution_count": null,
      "outputs": []
    },
    {
      "cell_type": "code",
      "metadata": {
        "id": "0eRwEyjtw2cf",
        "colab_type": "code",
        "colab": {
          "base_uri": "https://localhost:8080/",
          "height": 1000
        },
        "outputId": "5fd73a1f-59be-43c5-bdd9-773d8a6ab327"
      },
      "source": [
        "history = baseModel.fit(X_train, y_train, batch_size=10, epochs=epochs, shuffle=True)"
      ],
      "execution_count": null,
      "outputs": [
        {
          "output_type": "stream",
          "text": [
            "Epoch 1/50\n",
            "112/112 [==============================] - 0s 1ms/step - loss: 1.1706 - accuracy: 0.5308\n",
            "Epoch 2/50\n",
            "112/112 [==============================] - 0s 1ms/step - loss: 0.8263 - accuracy: 0.9643\n",
            "Epoch 3/50\n",
            "112/112 [==============================] - 0s 1ms/step - loss: 0.7665 - accuracy: 0.9812\n",
            "Epoch 4/50\n",
            "112/112 [==============================] - 0s 1ms/step - loss: 0.7518 - accuracy: 0.9946\n",
            "Epoch 5/50\n",
            "112/112 [==============================] - 0s 1ms/step - loss: 0.7480 - accuracy: 0.9973\n",
            "Epoch 6/50\n",
            "112/112 [==============================] - 0s 1ms/step - loss: 0.7459 - accuracy: 0.9982\n",
            "Epoch 7/50\n",
            "112/112 [==============================] - 0s 1ms/step - loss: 0.7455 - accuracy: 0.9991\n",
            "Epoch 8/50\n",
            "112/112 [==============================] - 0s 1ms/step - loss: 0.7442 - accuracy: 1.0000\n",
            "Epoch 9/50\n",
            "112/112 [==============================] - 0s 1ms/step - loss: 0.7439 - accuracy: 1.0000\n",
            "Epoch 10/50\n",
            "112/112 [==============================] - 0s 1ms/step - loss: 0.7439 - accuracy: 1.0000\n",
            "Epoch 11/50\n",
            "112/112 [==============================] - 0s 1ms/step - loss: 0.7475 - accuracy: 0.9973\n",
            "Epoch 12/50\n",
            "112/112 [==============================] - 0s 1ms/step - loss: 0.7438 - accuracy: 1.0000\n",
            "Epoch 13/50\n",
            "112/112 [==============================] - 0s 1ms/step - loss: 0.7439 - accuracy: 1.0000\n",
            "Epoch 14/50\n",
            "112/112 [==============================] - 0s 1ms/step - loss: 0.7441 - accuracy: 1.0000\n",
            "Epoch 15/50\n",
            "112/112 [==============================] - 0s 1ms/step - loss: 0.7438 - accuracy: 1.0000\n",
            "Epoch 16/50\n",
            "112/112 [==============================] - 0s 1ms/step - loss: 0.7437 - accuracy: 1.0000\n",
            "Epoch 17/50\n",
            "112/112 [==============================] - 0s 1ms/step - loss: 0.7437 - accuracy: 1.0000\n",
            "Epoch 18/50\n",
            "112/112 [==============================] - 0s 1ms/step - loss: 0.7437 - accuracy: 1.0000\n",
            "Epoch 19/50\n",
            "112/112 [==============================] - 0s 1ms/step - loss: 0.7437 - accuracy: 1.0000\n",
            "Epoch 20/50\n",
            "112/112 [==============================] - 0s 1ms/step - loss: 0.7437 - accuracy: 1.0000\n",
            "Epoch 21/50\n",
            "112/112 [==============================] - 0s 1ms/step - loss: 0.7437 - accuracy: 1.0000\n",
            "Epoch 22/50\n",
            "112/112 [==============================] - 0s 1ms/step - loss: 0.7437 - accuracy: 1.0000\n",
            "Epoch 23/50\n",
            "112/112 [==============================] - 0s 1ms/step - loss: 0.7437 - accuracy: 1.0000\n",
            "Epoch 24/50\n",
            "112/112 [==============================] - 0s 1ms/step - loss: 0.7437 - accuracy: 1.0000\n",
            "Epoch 25/50\n",
            "112/112 [==============================] - 0s 1ms/step - loss: 0.7437 - accuracy: 1.0000\n",
            "Epoch 26/50\n",
            "112/112 [==============================] - 0s 1ms/step - loss: 0.7437 - accuracy: 1.0000\n",
            "Epoch 27/50\n",
            "112/112 [==============================] - 0s 1ms/step - loss: 0.7437 - accuracy: 1.0000\n",
            "Epoch 28/50\n",
            "112/112 [==============================] - 0s 1ms/step - loss: 0.7437 - accuracy: 1.0000\n",
            "Epoch 29/50\n",
            "112/112 [==============================] - 0s 1ms/step - loss: 0.7437 - accuracy: 1.0000\n",
            "Epoch 30/50\n",
            "112/112 [==============================] - 0s 1ms/step - loss: 0.7437 - accuracy: 1.0000\n",
            "Epoch 31/50\n",
            "112/112 [==============================] - 0s 1ms/step - loss: 0.7437 - accuracy: 1.0000\n",
            "Epoch 32/50\n",
            "112/112 [==============================] - 0s 1ms/step - loss: 0.7437 - accuracy: 1.0000\n",
            "Epoch 33/50\n",
            "112/112 [==============================] - 0s 1ms/step - loss: 0.7437 - accuracy: 1.0000\n",
            "Epoch 34/50\n",
            "112/112 [==============================] - 0s 1ms/step - loss: 0.7437 - accuracy: 1.0000\n",
            "Epoch 35/50\n",
            "112/112 [==============================] - 0s 1ms/step - loss: 0.7437 - accuracy: 1.0000\n",
            "Epoch 36/50\n",
            "112/112 [==============================] - 0s 1ms/step - loss: 0.7437 - accuracy: 1.0000\n",
            "Epoch 37/50\n",
            "112/112 [==============================] - 0s 1ms/step - loss: 0.7437 - accuracy: 1.0000\n",
            "Epoch 38/50\n",
            "112/112 [==============================] - 0s 1ms/step - loss: 0.7437 - accuracy: 1.0000\n",
            "Epoch 39/50\n",
            "112/112 [==============================] - 0s 1ms/step - loss: 0.7437 - accuracy: 1.0000\n",
            "Epoch 40/50\n",
            "112/112 [==============================] - 0s 1ms/step - loss: 0.7437 - accuracy: 1.0000\n",
            "Epoch 41/50\n",
            "112/112 [==============================] - 0s 1ms/step - loss: 0.7437 - accuracy: 1.0000\n",
            "Epoch 42/50\n",
            "112/112 [==============================] - 0s 1ms/step - loss: 0.7437 - accuracy: 1.0000\n",
            "Epoch 43/50\n",
            "112/112 [==============================] - 0s 1ms/step - loss: 0.7437 - accuracy: 1.0000\n",
            "Epoch 44/50\n",
            "112/112 [==============================] - 0s 1ms/step - loss: 0.7437 - accuracy: 1.0000\n",
            "Epoch 45/50\n",
            "112/112 [==============================] - 0s 1ms/step - loss: 0.7437 - accuracy: 1.0000\n",
            "Epoch 46/50\n",
            "112/112 [==============================] - 0s 1ms/step - loss: 0.7437 - accuracy: 1.0000\n",
            "Epoch 47/50\n",
            "112/112 [==============================] - 0s 1ms/step - loss: 0.7437 - accuracy: 1.0000\n",
            "Epoch 48/50\n",
            "112/112 [==============================] - 0s 1ms/step - loss: 0.7437 - accuracy: 1.0000\n",
            "Epoch 49/50\n",
            "112/112 [==============================] - 0s 1ms/step - loss: 0.7437 - accuracy: 1.0000\n",
            "Epoch 50/50\n",
            "112/112 [==============================] - 0s 1ms/step - loss: 0.7437 - accuracy: 1.0000\n"
          ],
          "name": "stdout"
        }
      ]
    },
    {
      "cell_type": "code",
      "metadata": {
        "id": "zKtpszHbw6Op",
        "colab_type": "code",
        "colab": {
          "base_uri": "https://localhost:8080/",
          "height": 34
        },
        "outputId": "094027a2-6e52-4199-b8ae-0aa28b5ea8cd"
      },
      "source": [
        "# Save models\n",
        "baseModel.save('./saved_models/baseModel')"
      ],
      "execution_count": null,
      "outputs": [
        {
          "output_type": "stream",
          "text": [
            "INFO:tensorflow:Assets written to: ./saved_models/baseModel/assets\n"
          ],
          "name": "stdout"
        }
      ]
    },
    {
      "cell_type": "code",
      "metadata": {
        "id": "kp6MyH3jw9HM",
        "colab_type": "code",
        "colab": {}
      },
      "source": [
        "baseModel = models.load_model('./saved_models/baseModel')"
      ],
      "execution_count": null,
      "outputs": []
    },
    {
      "cell_type": "code",
      "metadata": {
        "id": "Ce2FhWxGxAja",
        "colab_type": "code",
        "colab": {
          "base_uri": "https://localhost:8080/",
          "height": 136
        },
        "outputId": "b481a0d5-93e2-43be-f35b-cf3d507bdbe3"
      },
      "source": [
        "preds = baseModel.predict(scaler.fit_transform(X_test))\n",
        "print(preds)"
      ],
      "execution_count": null,
      "outputs": [
        {
          "output_type": "stream",
          "text": [
            "[[0.1748858  0.1748789  0.4753499  0.17488542]\n",
            " [0.47536692 0.17487772 0.17487772 0.17487772]\n",
            " [0.1748777  0.1748777  0.1748777  0.47536686]\n",
            " ...\n",
            " [0.47536692 0.17487772 0.17487772 0.17487772]\n",
            " [0.47536692 0.17487772 0.17487772 0.17487772]\n",
            " [0.1748777  0.1748777  0.47536686 0.1748777 ]]\n"
          ],
          "name": "stdout"
        }
      ]
    },
    {
      "cell_type": "code",
      "metadata": {
        "id": "sN4ee_VhxU0s",
        "colab_type": "code",
        "colab": {
          "base_uri": "https://localhost:8080/",
          "height": 312
        },
        "outputId": "0e9096a4-6cdb-41f3-f39d-f2054f5198a2"
      },
      "source": [
        "print(history.history.keys())\n",
        "#  \"Accuracy\"\n",
        "plt.plot(history.history['accuracy'])\n",
        "plt.plot(history.history['loss'])\n",
        "plt.title('Model accuracy and loss')\n",
        "plt.ylabel('accuracy')\n",
        "plt.xlabel('epoch')\n",
        "plt.legend(['Accuracy', 'Loss'], loc='upper right')\n",
        "plt.show()"
      ],
      "execution_count": null,
      "outputs": [
        {
          "output_type": "stream",
          "text": [
            "dict_keys(['loss', 'accuracy'])\n"
          ],
          "name": "stdout"
        },
        {
          "output_type": "display_data",
          "data": {
            "image/png": "[encoded data removed]",
            "text/plain": [
              "<Figure size 432x288 with 1 Axes>"
            ]
          },
          "metadata": {
            "tags": [],
            "needs_background": "light"
          }
        }
      ]
    },
    {
      "cell_type": "code",
      "metadata": {
        "id": "VQYgmoocyxgs",
        "colab_type": "code",
        "colab": {}
      },
      "source": [
        ""
      ],
      "execution_count": null,
      "outputs": []
    }
  ]
}